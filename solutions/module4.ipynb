{
 "cells": [
  {
   "cell_type": "markdown",
   "metadata": {},
   "source": [
    "## 4.1"
   ]
  },
  {
   "cell_type": "markdown",
   "metadata": {},
   "source": [
    "*Asset A has an expected return of 8% and a standard deviation of 10%.  Asset B has an expected return of 12% and a standard deviation of 16%.*"
   ]
  },
  {
   "cell_type": "markdown",
   "metadata": {},
   "source": [
    "1.  *What is the expected return of the following portfolios?*\n",
    "\n",
    "(a) *20% asset A and 80% asset B*\n",
    "\n",
    "(b) *50% asset A and 50% asset B*\n",
    "\n",
    "(c) *80% asset A and 20% asset B*"
   ]
  },
  {
   "cell_type": "code",
   "execution_count": 3,
   "metadata": {},
   "outputs": [
    {
     "name": "stdout",
     "output_type": "stream",
     "text": [
      "(a) 11.2%\n",
      "(b) 10.0%\n",
      "(c) 8.8%\n"
     ]
    }
   ],
   "source": [
    "meanA = 0.08 \n",
    "meanB = 0.12\n",
    "\n",
    "print(f\"(a) {0.2*meanA + 0.8*meanB:.1%}\")\n",
    "print(f\"(b) {0.5*meanA + 0.5*meanB:.1%}\")\n",
    "print(f\"(c) {0.8*meanA + 0.2*meanB:.1%}\")"
   ]
  },
  {
   "cell_type": "markdown",
   "metadata": {},
   "source": [
    "2.  *Assume the correlation between the two assets is 20%.  What are the standard deviations of the three portfolios in question 1?*"
   ]
  },
  {
   "cell_type": "code",
   "execution_count": 1,
   "metadata": {},
   "outputs": [
    {
     "name": "stdout",
     "output_type": "stream",
     "text": [
      "(a) 13.34%\n",
      "(b) 10.25%\n",
      "(c) 9.19%\n"
     ]
    }
   ],
   "source": [
    "from math import sqrt \n",
    "\n",
    "stdevA = 0.10 \n",
    "stdevB = 0.16\n",
    "corr = 0.2\n",
    "\n",
    "def stdev(wtA, corr):\n",
    "    wtB = 1 - wtA\n",
    "    var = (\n",
    "        wtA**2 * stdevA**2 \n",
    "        + wtB**2 * stdevB**2\n",
    "        + 2 * wtA * wtB * corr * stdevA * stdevB\n",
    "    )\n",
    "    return sqrt(var)\n",
    "\n",
    "print(f\"(a) {stdev(0.2, corr):.2%}\")\n",
    "print(f\"(b) {stdev(0.5, corr):.2%}\")\n",
    "print(f\"(c) {stdev(0.8, corr):.2%}\")"
   ]
  },
  {
   "cell_type": "markdown",
   "metadata": {},
   "source": [
    "3.  *Assume the correlation between the two assets is 50%.  What are the standard deviations of the three portfolios in question 1?*"
   ]
  },
  {
   "cell_type": "code",
   "execution_count": 2,
   "metadata": {},
   "outputs": [
    {
     "name": "stdout",
     "output_type": "stream",
     "text": [
      "(a) 13.91%\n",
      "(b) 11.36%\n",
      "(c) 9.99%\n"
     ]
    }
   ],
   "source": [
    "corr = 0.5\n",
    "\n",
    "print(f\"(a) {stdev(0.2, corr):.2%}\")\n",
    "print(f\"(b) {stdev(0.5, corr):.2%}\")\n",
    "print(f\"(c) {stdev(0.8, corr):.2%}\")"
   ]
  },
  {
   "cell_type": "markdown",
   "metadata": {},
   "source": [
    "## 4.2"
   ]
  },
  {
   "cell_type": "markdown",
   "metadata": {},
   "source": [
    "*Consider three assets with the following standard deviations and correlations:*\n",
    "\n",
    "    sd1, sd2, sd3 = 0.1, 0.15, 0.2\n",
    "\n",
    "    corr12, corr13, corr23 = 0.9, 0.1, 0.3"
   ]
  },
  {
   "cell_type": "markdown",
   "metadata": {},
   "source": [
    "1. *What is the standard deviation of a portfolio that is invested 60% in asset 1, 30% in asset 2, and 10% in asset 3?*"
   ]
  },
  {
   "cell_type": "code",
   "execution_count": 10,
   "metadata": {},
   "outputs": [
    {
     "name": "stdout",
     "output_type": "stream",
     "text": [
      "10.80%\n"
     ]
    }
   ],
   "source": [
    "import numpy as np \n",
    "\n",
    "stdevs = np.array([0.1, 0.15, 0.2])\n",
    "corr = np.diag(np.ones(3)) \n",
    "corr[0, 1] = corr[1, 0] = 0.9\n",
    "corr[0, 2] = corr[2, 0] = 0.1\n",
    "corr[1, 2] = corr[2, 1] = 0.3 \n",
    "\n",
    "def stdev(wt1, wt2, wt3):\n",
    "    w = np.array([wt1, wt2, wt3])\n",
    "    var = w @ np.diag(stdevs) @ corr @ np.diag(stdevs) @ w\n",
    "    return np.sqrt(var)\n",
    "\n",
    "print(f\"{stdev(0.6, 0.3, 0.1):.2%}\")"
   ]
  },
  {
   "cell_type": "markdown",
   "metadata": {},
   "source": [
    "2. *What is the standard deviation of a portfolio that is invested 60% in asset 1, 10% in asset 2, and 30% in asset 3?*"
   ]
  },
  {
   "cell_type": "code",
   "execution_count": 11,
   "metadata": {},
   "outputs": [
    {
     "name": "stdout",
     "output_type": "stream",
     "text": [
      "10.15%\n"
     ]
    }
   ],
   "source": [
    "print(f\"{stdev(0.6, 0.1, 0.3):.2%}\")"
   ]
  },
  {
   "cell_type": "markdown",
   "metadata": {},
   "source": [
    "3. *Is it possible for the portfolio risk to fall if you lower the weight on asset 2 and increase the weight on the riskier asset 3 by the same amount?  Explain why or why not.*"
   ]
  },
  {
   "cell_type": "markdown",
   "metadata": {},
   "source": [
    "Yes, this is shown in parts 1 and 2.  Asset 3 is riskier than asset 2 in terms of standard deviation, but it has a lower correlation with asset 1 than asset 2 does, so increasing the weight on asset 3 can improve diversification."
   ]
  },
  {
   "cell_type": "markdown",
   "metadata": {},
   "source": [
    "## 4.3"
   ]
  },
  {
   "cell_type": "markdown",
   "metadata": {},
   "source": [
    "*Show a plot of the mean and standard deviations you can achieve when there is a risky asset with an expected return of 8% and a standard deviation of 12%, you can save at 3%, and you can borrow at 6%.*"
   ]
  },
  {
   "cell_type": "code",
   "execution_count": 13,
   "metadata": {},
   "outputs": [
    {
     "data": {
      "image/png": "[encoded data removed]",
      "text/plain": [
       "<Figure size 640x480 with 1 Axes>"
      ]
     },
     "metadata": {},
     "output_type": "display_data"
    }
   ],
   "source": [
    "wts = np.arange(0, 2.01, 0.01)\n",
    "means = [w*0.08 + (1-w)*(0.03 if w<1 else 0.06) for w in wts]\n",
    "stdevs = 0.12 * wts \n",
    "\n",
    "import matplotlib.pyplot as plt \n",
    "import seaborn as sns \n",
    "sns.set_style(\"whitegrid\")\n",
    "\n",
    "plt.plot(stdevs, means)\n",
    "plt.xlabel(\"Standard Deviation\")\n",
    "plt.ylabel(\"Expected Return\")\n",
    "plt.show()"
   ]
  },
  {
   "cell_type": "markdown",
   "metadata": {},
   "source": [
    "## 4.4"
   ]
  },
  {
   "cell_type": "markdown",
   "metadata": {},
   "source": [
    "1. Calculate the least-risk portfolio that has an expected return of 12% when you can save and borrow risk-free at 3% and there are four assets with parameters:\n",
    "\n",
    "mn1, mn2, mn3, mn4 = 0.08, 0.12, 0.15, 0.12\n",
    "\n",
    "sd1, sd2, sd3, sd4 = 0.1, 0.15, 0.2, 0.3\n",
    "\n",
    "corr12, corr13, corr14, corr23, corr24, corr34 = 0.3, 0.2, 0.4, 0.3, 0.4, 0.5."
   ]
  },
  {
   "cell_type": "code",
   "execution_count": 15,
   "metadata": {},
   "outputs": [],
   "source": [
    "means = np.array([0.08, 0.12, 0.15, 0.12])\n",
    "stdevs = np.array([0.1, 0.15, 0.2, 0.3])\n",
    "rf = 0.03 \n",
    "corr = np.diag(np.ones(4))\n",
    "corr[0, 1] = corr[1, 0] = 0.3\n",
    "corr[0, 2] = corr[2, 0] = 0.2\n",
    "corr[0, 3] = corr[3, 0] = 0.4\n",
    "corr[1, 2] = corr[2, 1] = 0.3\n",
    "corr[1, 3] = corr[3, 1] = 0.4\n",
    "corr[2, 3] = corr[3, 2] = 0.5"
   ]
  },
  {
   "cell_type": "code",
   "execution_count": 20,
   "metadata": {},
   "outputs": [
    {
     "data": {
      "text/plain": [
       "array([ 0.49335891,  0.38592775,  0.35256484, -0.13010248])"
      ]
     },
     "execution_count": 20,
     "metadata": {},
     "output_type": "execute_result"
    }
   ],
   "source": [
    "P = np.diag(stdevs) @ corr @ np.diag(stdevs)\n",
    "q = np.zeros(4).reshape(4, 1)\n",
    "A = (means - 0.03).reshape(1, 4)\n",
    "b = [0.12 - 0.03]\n",
    "\n",
    "from cvxopt import matrix\n",
    "from cvxopt.solvers import qp\n",
    "\n",
    "sol = qp(\n",
    "    P=matrix(P),\n",
    "    q=matrix(q),\n",
    "    G=None,\n",
    "    h=None,\n",
    "    A=matrix(A),\n",
    "    b=matrix(b)\n",
    ")\n",
    "w = np.array(sol[\"x\"]).flatten()\n",
    "w"
   ]
  },
  {
   "cell_type": "markdown",
   "metadata": {},
   "source": [
    "2) *Plot the expected return and standard deviation of the portfolio you found in question (1).*"
   ]
  },
  {
   "cell_type": "code",
   "execution_count": 21,
   "metadata": {},
   "outputs": [
    {
     "data": {
      "image/png": "[encoded data removed]",
      "text/plain": [
       "<Figure size 640x480 with 1 Axes>"
      ]
     },
     "metadata": {},
     "output_type": "display_data"
    }
   ],
   "source": [
    "mean = 0.03 + w @ (means - 0.03)\n",
    "stdev = np.sqrt(w @ P @ w)\n",
    "plt.scatter(stdev, mean)\n",
    "plt.xlim((0, 1.1*stdev))\n",
    "plt.ylim((0, 1.1*mean))\n",
    "plt.xlabel(\"Standard Deviation\")\n",
    "plt.ylabel(\"Expected Return\")\n",
    "plt.show()"
   ]
  },
  {
   "cell_type": "markdown",
   "metadata": {},
   "source": [
    "## 4.5"
   ]
  },
  {
   "cell_type": "markdown",
   "metadata": {},
   "source": [
    "*Use the same asset data as in Exercise 4.4 and do the following:*\n",
    "\n",
    "\n",
    "1. *Find the least-risk portfolios with expected returns of 4%, 6%, 8%, 10%, 12%, 14%, 16%, 18%, and 20%.*"
   ]
  },
  {
   "cell_type": "code",
   "execution_count": 23,
   "metadata": {},
   "outputs": [
    {
     "data": {
      "text/plain": [
       "[array([ 0.05481766,  0.04288086,  0.03917387, -0.01445583]),\n",
       " array([ 0.16445297,  0.12864258,  0.11752161, -0.04336749]),\n",
       " array([ 0.27408828,  0.21440431,  0.19586935, -0.07227915]),\n",
       " array([ 0.38372359,  0.30016603,  0.2742171 , -0.10119082]),\n",
       " array([ 0.49335891,  0.38592775,  0.35256484, -0.13010248]),\n",
       " array([ 0.60299422,  0.47168947,  0.43091258, -0.15901414]),\n",
       " array([ 0.71262953,  0.55745119,  0.50926032, -0.1879258 ]),\n",
       " array([ 0.82226484,  0.64321292,  0.58760806, -0.21683746]),\n",
       " array([ 0.93190015,  0.72897464,  0.6659558 , -0.24574913])]"
      ]
     },
     "execution_count": 23,
     "metadata": {},
     "output_type": "execute_result"
    }
   ],
   "source": [
    "targets = np.arange(0.04, 0.22, 0.02) \n",
    "\n",
    "portfolios = [] \n",
    "for mu in targets:\n",
    "    b = [mu - 0.03]\n",
    "    sol = qp(\n",
    "        P=matrix(P),\n",
    "        q=matrix(q),\n",
    "        G=None,\n",
    "        h=None,\n",
    "        A=matrix(A),\n",
    "        b=matrix(b)\n",
    "    )\n",
    "    w = np.array(sol[\"x\"]).flatten()\n",
    "    portfolios.append(w) \n",
    "portfolios"
   ]
  },
  {
   "cell_type": "markdown",
   "metadata": {},
   "source": [
    "2. *Plot the expected returns and standard deviations of the portfolios in part (1).*"
   ]
  },
  {
   "cell_type": "code",
   "execution_count": 24,
   "metadata": {},
   "outputs": [
    {
     "data": {
      "image/png": "[encoded data removed]",
      "text/plain": [
       "<Figure size 640x480 with 1 Axes>"
      ]
     },
     "metadata": {},
     "output_type": "display_data"
    }
   ],
   "source": [
    "mns = [0.03 + w @ (means - 0.03) for w in portfolios]\n",
    "stds = [np.sqrt(w @ P @ w) for w in portfolios]\n",
    "plt.scatter(stds, mns)\n",
    "plt.xlim((0, 1.1*stdev))\n",
    "plt.ylim((0, 1.1*mean))\n",
    "plt.xlabel(\"Standard Deviation\")\n",
    "plt.ylabel(\"Expected Return\")\n",
    "plt.show()"
   ]
  },
  {
   "cell_type": "markdown",
   "metadata": {},
   "source": [
    "## 4.6"
   ]
  },
  {
   "cell_type": "markdown",
   "metadata": {},
   "source": [
    "*Using this webpage, calculate the cost of equity capital for Apple (CVX) and Walmart (WMT).  Explain why, according to the CAPM, the cost of equity capital is lower for Walmart than for Apple.*"
   ]
  },
  {
   "cell_type": "markdown",
   "metadata": {},
   "source": [
    "On Feb 3, 2023, AAPL = 16.11% and WMT = 9.24%.  There is more market risk in AAPL (it has a higher beta), so investors require a higher risk premium."
   ]
  }
 ],
 "metadata": {
  "kernelspec": {
   "display_name": "Python 3 (ipykernel)",
   "language": "python",
   "name": "python3"
  },
  "language_info": {
   "codemirror_mode": {
    "name": "ipython",
    "version": 3
   },
   "file_extension": ".py",
   "mimetype": "text/x-python",
   "name": "python",
   "nbconvert_exporter": "python",
   "pygments_lexer": "ipython3",
   "version": "3.12.1"
  }
 },
 "nbformat": 4,
 "nbformat_minor": 4
}
